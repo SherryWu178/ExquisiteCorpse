{
 "cells": [
  {
   "cell_type": "code",
   "execution_count": 4,
   "metadata": {},
   "outputs": [],
   "source": [
    "output = {\"density of hatch\": {\"topLeft\": [0,0], \"bottomRight\": [1,1], \"centerOfMass\": [0.5,0.5]},\n",
    "\"number of Color\": 4,\n",
    "\"position of Points\": [(0, 0), (1, 1), (0.5, 0.5), (0.75, 0.75), (0.25, 0.25), (0.1, 0.1), (0.9, 0.9), (0.9, 0.1), (0.1, 0.9)],\n",
    "}"
   ]
  },
  {
   "cell_type": "code",
   "execution_count": 5,
   "metadata": {},
   "outputs": [
    {
     "name": "stdout",
     "output_type": "stream",
     "text": [
      "{\"density of hatch\": {\"topLeft\": [0, 0], \"bottomRight\": [1, 1], \"centerOfMass\": [0.5, 0.5]}, \"number of Color\": 4, \"position of Points\": [[0, 0], [1, 1], [0.5, 0.5], [0.75, 0.75], [0.25, 0.25], [0.1, 0.1], [0.9, 0.9], [0.9, 0.1], [0.1, 0.9]]}\n"
     ]
    }
   ],
   "source": [
    "import json\n",
    "\n",
    "# Sample Python dictionary\n",
    "python_dict = output\n",
    "\n",
    "# Convert Python dictionary to JSON\n",
    "json_data = json.dumps(python_dict)\n",
    "\n",
    "# Print the JSON data\n",
    "print(json_data)"
   ]
  },
  {
   "cell_type": "code",
   "execution_count": 6,
   "metadata": {},
   "outputs": [
    {
     "name": "stdout",
     "output_type": "stream",
     "text": [
      "JSON data saved to ./data.json\n"
     ]
    }
   ],
   "source": [
    "file_path = \"./data.json\"\n",
    "\n",
    "# Open the file in write mode and save the JSON data\n",
    "with open(file_path, \"w\") as json_file:\n",
    "    json.dump(python_dict, json_file)\n",
    "\n",
    "print(\"JSON data saved to\", file_path)"
   ]
  }
 ],
 "metadata": {
  "kernelspec": {
   "display_name": "Python 3",
   "language": "python",
   "name": "python3"
  },
  "language_info": {
   "codemirror_mode": {
    "name": "ipython",
    "version": 3
   },
   "file_extension": ".py",
   "mimetype": "text/x-python",
   "name": "python",
   "nbconvert_exporter": "python",
   "pygments_lexer": "ipython3",
   "version": "3.9.1"
  }
 },
 "nbformat": 4,
 "nbformat_minor": 2
}
